{
  "nbformat": 4,
  "nbformat_minor": 0,
  "metadata": {
    "colab": {
      "provenance": []
    },
    "kernelspec": {
      "name": "python3",
      "display_name": "Python 3"
    },
    "language_info": {
      "name": "python"
    }
  },
  "cells": [
    {
      "cell_type": "code",
      "execution_count": null,
      "metadata": {
        "id": "60xYusxEoEAM"
      },
      "outputs": [],
      "source": [
        "import tensorflow as tf\n",
        "from tensorflow import keras\n",
        "from tensorflow.keras import layers\n",
        "from tensorflow.keras.preprocessing.image import ImageDataGenerator\n",
        "#Define image size and batch size\n",
        "IMG_SIZE=224\n",
        "BATCH_SIZE=32"
      ]
    },
    {
      "cell_type": "code",
      "source": [
        "#Define data generators for train,validation and test sets\n",
        "train_datagen=ImageDataGenerator(rescale=1./255,validation_split=0.2)\n",
        "train_generator = train_datagen.flow_from_directory('/content/drive/MyDrive/Brain_Tumor_Detection/train',\n",
        "    target_size = (IMG_SIZE, IMG_SIZE),\n",
        "    batch_size = BATCH_SIZE,\n",
        "    class_mode = 'binary',\n",
        "    subset = 'training'\n",
        "\n",
        ")\n",
        "val_generator= train_datagen.flow_from_directory('/content/drive/MyDrive/Brain_Tumor_Detection/train',\n",
        "    target_size = (IMG_SIZE, IMG_SIZE),\n",
        "    batch_size = BATCH_SIZE,\n",
        "    class_mode = 'binary',\n",
        "    subset = 'validation'\n",
        ")\n",
        "train_datagen=ImageDataGenerator(rescale=1./255)\n",
        "test_generator= train_datagen.flow_from_directory('/content/drive/MyDrive/Brain_Tumor_Detection/test',\n",
        "    target_size = (IMG_SIZE, IMG_SIZE),\n",
        "    batch_size = BATCH_SIZE,\n",
        "    class_mode = 'binary'\n",
        ")"
      ],
      "metadata": {
        "id": "xbOwsSSL9Loz",
        "colab": {
          "base_uri": "https://localhost:8080/"
        },
        "outputId": "623916a9-0136-4712-e3a1-0c63f1e1f725"
      },
      "execution_count": null,
      "outputs": [
        {
          "output_type": "stream",
          "name": "stdout",
          "text": [
            "Found 2400 images belonging to 2 classes.\n",
            "Found 600 images belonging to 2 classes.\n",
            "Found 60 images belonging to 1 classes.\n"
          ]
        }
      ]
    },
    {
      "cell_type": "code",
      "source": [
        "from google.colab import drive\n",
        "drive.mount('/content/drive')"
      ],
      "metadata": {
        "colab": {
          "base_uri": "https://localhost:8080/"
        },
        "id": "RMxkhSeqgv9J",
        "outputId": "29d43f02-0a2f-49c5-bf41-120d68b3e53e"
      },
      "execution_count": null,
      "outputs": [
        {
          "output_type": "stream",
          "name": "stdout",
          "text": [
            "Drive already mounted at /content/drive; to attempt to forcibly remount, call drive.mount(\"/content/drive\", force_remount=True).\n"
          ]
        }
      ]
    },
    {
      "cell_type": "code",
      "source": [
        "#define the model\n",
        "model=keras.Sequential([\n",
        "    layers.Conv2D(32,(3,3),activation='relu',input_shape=(IMG_SIZE,IMG_SIZE,3)),\n",
        "    layers.MaxPooling2D((2,2)),\n",
        "    layers.Conv2D(64,(3,3),activation='relu'),\n",
        "    layers.MaxPooling2D((2,2)),\n",
        "    layers.Conv2D(128,(3,3),activation='relu'),\n",
        "    layers.MaxPooling2D((2,2)),\n",
        "    layers.Flatten(),\n",
        "    layers.Dense(128,activation='relu'),\n",
        "    layers.Dense(1,activation='sigmoid')\n",
        "    ])"
      ],
      "metadata": {
        "id": "9SFvIVT9kmN9"
      },
      "execution_count": null,
      "outputs": []
    },
    {
      "cell_type": "code",
      "source": [
        "#compile the model\n",
        "model.compile(optimizer='adam',loss='binary_crossentropy',metrics=['accuracy'])"
      ],
      "metadata": {
        "id": "bxWR_B6UnA3V"
      },
      "execution_count": null,
      "outputs": []
    },
    {
      "cell_type": "code",
      "source": [
        "history=model.fit(train_generator,validation_data=val_generator,epochs=5)"
      ],
      "metadata": {
        "colab": {
          "base_uri": "https://localhost:8080/"
        },
        "id": "vyGXh8v9oAJ6",
        "outputId": "01a9b48f-e1b9-449f-c979-74b2a7b12312"
      },
      "execution_count": null,
      "outputs": [
        {
          "output_type": "stream",
          "name": "stdout",
          "text": [
            "Epoch 1/5\n",
            "75/75 [==============================] - 792s 11s/step - loss: 0.4496 - accuracy: 0.8062 - val_loss: 0.2865 - val_accuracy: 0.8650\n",
            "Epoch 2/5\n",
            "75/75 [==============================] - 183s 2s/step - loss: 0.2267 - accuracy: 0.9125 - val_loss: 0.1775 - val_accuracy: 0.9483\n",
            "Epoch 3/5\n",
            "75/75 [==============================] - 181s 2s/step - loss: 0.1100 - accuracy: 0.9688 - val_loss: 0.1097 - val_accuracy: 0.9567\n",
            "Epoch 4/5\n",
            "75/75 [==============================] - 184s 2s/step - loss: 0.0508 - accuracy: 0.9871 - val_loss: 0.0254 - val_accuracy: 0.9967\n",
            "Epoch 5/5\n",
            "75/75 [==============================] - 179s 2s/step - loss: 0.0219 - accuracy: 0.9933 - val_loss: 0.0100 - val_accuracy: 0.9983\n"
          ]
        }
      ]
    },
    {
      "cell_type": "code",
      "source": [
        "model.save(\"Model.h5\",\"label.txt\")"
      ],
      "metadata": {
        "colab": {
          "base_uri": "https://localhost:8080/"
        },
        "id": "Ra0pxHlIogPX",
        "outputId": "ebbe0b2e-3d30-49f8-f965-e2b7d556ee95"
      },
      "execution_count": null,
      "outputs": [
        {
          "output_type": "stream",
          "name": "stderr",
          "text": [
            "/usr/local/lib/python3.10/dist-packages/keras/src/engine/training.py:3103: UserWarning: You are saving your model as an HDF5 file via `model.save()`. This file format is considered legacy. We recommend using instead the native Keras format, e.g. `model.save('my_model.keras')`.\n",
            "  saving_api.save_model(\n"
          ]
        }
      ]
    },
    {
      "cell_type": "code",
      "source": [
        "from tensorflow.keras.models import load_model\n",
        "from tensorflow.keras.preprocessing import image\n",
        "import numpy as np\n",
        "\n",
        "\n",
        "#load the saved model\n",
        "model=load_model('/content/Model.h5')\n",
        "\n",
        "#load and preprocess the test image\n",
        "test_image_path='/content/drive/MyDrive/Brain_Tumor_Detection/test/pred/pred17.jpg'\n",
        "img=image.load_img(test_image_path,target_size=(224,224))\n",
        "img_array = image.img_to_array(img)\n",
        "img_array = np.expand_dims(img_array,axis=0)   #add batch dimension\n",
        "img_array /= 255.    #Normalize the pixel values\n",
        "#Make predictions\n",
        "prediction = model.predict(img_array)\n",
        "#Print the prediction\n",
        "if prediction < 0.5:\n",
        "  print(\"Prediction: No Tummor (Probability:\",prediction[0][0],\")\")\n",
        "else:\n",
        "  print(\"Prediction: Tummor Present (Probability:\",prediction[0][0],\")\")\n",
        "\n"
      ],
      "metadata": {
        "colab": {
          "base_uri": "https://localhost:8080/"
        },
        "id": "Uczi-b3korrH",
        "outputId": "5e930548-cfb7-491b-d257-779ed6071b82"
      },
      "execution_count": null,
      "outputs": [
        {
          "output_type": "stream",
          "name": "stdout",
          "text": [
            "1/1 [==============================] - 0s 102ms/step\n",
            "Prediction: No Tummor (Probability: 0.011254913 )\n"
          ]
        }
      ]
    },
    {
      "cell_type": "code",
      "source": [],
      "metadata": {
        "id": "XjSrDWo9ie2n"
      },
      "execution_count": null,
      "outputs": []
    }
  ]
}