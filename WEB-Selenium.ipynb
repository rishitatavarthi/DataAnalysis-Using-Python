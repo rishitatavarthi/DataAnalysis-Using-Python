{
 "cells": [
  {
   "cell_type": "markdown",
   "id": "faff6544",
   "metadata": {},
   "source": [
    "Extracting Dell Laptops data from amazon.in website and saving it as .csv\n",
    "Name of the laptop,price,no of reviews\n",
    "\n"
   ]
  },
  {
   "cell_type": "code",
   "execution_count": 60,
   "id": "c49b1c3b",
   "metadata": {},
   "outputs": [
    {
     "name": "stdout",
     "output_type": "stream",
     "text": [
      "Requirement already satisfied: selenium in c:\\users\\lokesh\\appdata\\roaming\\python\\python311\\site-packages (4.17.2)\n",
      "Requirement already satisfied: urllib3[socks]<3,>=1.26 in c:\\users\\lokesh\\anaconda3\\lib\\site-packages (from selenium) (1.26.16)\n",
      "Requirement already satisfied: trio~=0.17 in c:\\users\\lokesh\\appdata\\roaming\\python\\python311\\site-packages (from selenium) (0.24.0)\n",
      "Requirement already satisfied: trio-websocket~=0.9 in c:\\users\\lokesh\\appdata\\roaming\\python\\python311\\site-packages (from selenium) (0.11.1)\n",
      "Requirement already satisfied: certifi>=2021.10.8 in c:\\users\\lokesh\\anaconda3\\lib\\site-packages (from selenium) (2024.2.2)\n",
      "Requirement already satisfied: typing_extensions>=4.9.0 in c:\\users\\lokesh\\appdata\\roaming\\python\\python311\\site-packages (from selenium) (4.9.0)\n",
      "Requirement already satisfied: attrs>=20.1.0 in c:\\users\\lokesh\\anaconda3\\lib\\site-packages (from trio~=0.17->selenium) (22.1.0)\n",
      "Requirement already satisfied: sortedcontainers in c:\\users\\lokesh\\anaconda3\\lib\\site-packages (from trio~=0.17->selenium) (2.4.0)\n",
      "Requirement already satisfied: idna in c:\\users\\lokesh\\anaconda3\\lib\\site-packages (from trio~=0.17->selenium) (3.4)\n",
      "Requirement already satisfied: outcome in c:\\users\\lokesh\\appdata\\roaming\\python\\python311\\site-packages (from trio~=0.17->selenium) (1.3.0.post0)\n",
      "Requirement already satisfied: sniffio>=1.3.0 in c:\\users\\lokesh\\appdata\\roaming\\python\\python311\\site-packages (from trio~=0.17->selenium) (1.3.0)\n",
      "Requirement already satisfied: cffi>=1.14 in c:\\users\\lokesh\\anaconda3\\lib\\site-packages (from trio~=0.17->selenium) (1.15.1)\n",
      "Requirement already satisfied: wsproto>=0.14 in c:\\users\\lokesh\\appdata\\roaming\\python\\python311\\site-packages (from trio-websocket~=0.9->selenium) (1.2.0)\n",
      "Requirement already satisfied: PySocks!=1.5.7,<2.0,>=1.5.6 in c:\\users\\lokesh\\anaconda3\\lib\\site-packages (from urllib3[socks]<3,>=1.26->selenium) (1.7.1)\n",
      "Requirement already satisfied: pycparser in c:\\users\\lokesh\\anaconda3\\lib\\site-packages (from cffi>=1.14->trio~=0.17->selenium) (2.21)\n",
      "Requirement already satisfied: h11<1,>=0.9.0 in c:\\users\\lokesh\\appdata\\roaming\\python\\python311\\site-packages (from wsproto>=0.14->trio-websocket~=0.9->selenium) (0.14.0)\n"
     ]
    }
   ],
   "source": [
    "!pip install selenium"
   ]
  },
  {
   "cell_type": "code",
   "execution_count": 61,
   "id": "640f8d35",
   "metadata": {},
   "outputs": [
    {
     "name": "stdout",
     "output_type": "stream",
     "text": [
      "Requirement already satisfied: webdriver_manager in c:\\users\\lokesh\\appdata\\roaming\\python\\python311\\site-packages (4.0.1)\n",
      "Requirement already satisfied: requests in c:\\users\\lokesh\\anaconda3\\lib\\site-packages (from webdriver_manager) (2.31.0)\n",
      "Requirement already satisfied: python-dotenv in c:\\users\\lokesh\\anaconda3\\lib\\site-packages (from webdriver_manager) (0.21.0)\n",
      "Requirement already satisfied: packaging in c:\\users\\lokesh\\anaconda3\\lib\\site-packages (from webdriver_manager) (23.1)\n",
      "Requirement already satisfied: charset-normalizer<4,>=2 in c:\\users\\lokesh\\anaconda3\\lib\\site-packages (from requests->webdriver_manager) (2.0.4)\n",
      "Requirement already satisfied: idna<4,>=2.5 in c:\\users\\lokesh\\anaconda3\\lib\\site-packages (from requests->webdriver_manager) (3.4)\n",
      "Requirement already satisfied: urllib3<3,>=1.21.1 in c:\\users\\lokesh\\anaconda3\\lib\\site-packages (from requests->webdriver_manager) (1.26.16)\n",
      "Requirement already satisfied: certifi>=2017.4.17 in c:\\users\\lokesh\\anaconda3\\lib\\site-packages (from requests->webdriver_manager) (2024.2.2)\n"
     ]
    }
   ],
   "source": [
    "!pip install webdriver_manager"
   ]
  },
  {
   "cell_type": "code",
   "execution_count": 98,
   "id": "0e316939",
   "metadata": {},
   "outputs": [],
   "source": [
    "import selenium\n",
    "import webdriver_manager"
   ]
  },
  {
   "cell_type": "code",
   "execution_count": 99,
   "id": "4ce51a75",
   "metadata": {},
   "outputs": [],
   "source": [
    " from selenium import webdriver\n",
    " from webdriver_manager.chrome import ChromeDriverManager\n",
    " from selenium.webdriver.chrome.options import Options\n",
    " from selenium.webdriver.common.by import By  \n",
    " from selenium.webdriver.common.keys import Keys #to enter data in search box"
   ]
  },
  {
   "cell_type": "code",
   "execution_count": 100,
   "id": "1679f426",
   "metadata": {},
   "outputs": [
    {
     "name": "stdout",
     "output_type": "stream",
     "text": [
      "chrome\n"
     ]
    }
   ],
   "source": [
    "#Define options and set browser capabilities\n",
    "options =webdriver.ChromeOptions()       \n",
    "options.add_argument('--some-option')\n",
    "\n",
    "#create WebDriver instance with options\n",
    "driver=webdriver.Chrome(options=options)\n",
    "\n",
    "#Access browser capabilities\n",
    "browser_name=options.to_capabilities()[\"browserName\"]\n",
    "print(browser_name)"
   ]
  },
  {
   "cell_type": "code",
   "execution_count": 101,
   "id": "2087b59d",
   "metadata": {},
   "outputs": [],
   "source": [
    "driver.get('https://www.amazon.in')"
   ]
  },
  {
   "cell_type": "code",
   "execution_count": 102,
   "id": "1595bb24",
   "metadata": {},
   "outputs": [],
   "source": [
    "search=driver.find_element(By.ID,\"twotabsearchtextbox\")"
   ]
  },
  {
   "cell_type": "code",
   "execution_count": 103,
   "id": "e69444c9",
   "metadata": {},
   "outputs": [],
   "source": [
    "search.send_keys(\"Dell laptops\")"
   ]
  },
  {
   "cell_type": "code",
   "execution_count": 104,
   "id": "a6b81042",
   "metadata": {},
   "outputs": [],
   "source": [
    "driver.find_element(By.ID,\"nav-search-submit-button\").click()"
   ]
  },
  {
   "cell_type": "code",
   "execution_count": 105,
   "id": "ada3a165",
   "metadata": {},
   "outputs": [],
   "source": [
    "driver.find_element(By.XPATH,\"//span[text()='Dell']\").click()"
   ]
  },
  {
   "cell_type": "markdown",
   "id": "6d5340d1",
   "metadata": {},
   "source": [
    "class name for title: a-size-medium-a-color-base a text-normal"
   ]
  },
  {
   "cell_type": "code",
   "execution_count": 106,
   "id": "33935632",
   "metadata": {},
   "outputs": [],
   "source": [
    "laptop_name=[]\n",
    "laptop_prices=[]\n",
    "review=[]"
   ]
  },
  {
   "cell_type": "code",
   "execution_count": 130,
   "id": "ccfbde87",
   "metadata": {},
   "outputs": [
    {
     "name": "stdout",
     "output_type": "stream",
     "text": [
      "30\n"
     ]
    }
   ],
   "source": [
    "names=driver.find_elements(By.XPATH,\".//span[@class='a-size-medium a-color-base a-text-normal']\")\n",
    "laptop_name=[i.text for i in names]\n",
    "print(len(laptop_name))\n"
   ]
  },
  {
   "cell_type": "code",
   "execution_count": 131,
   "id": "d54626e2",
   "metadata": {},
   "outputs": [
    {
     "name": "stdout",
     "output_type": "stream",
     "text": [
      "['Dell 14 Laptop, 12th Gen Intel Core i5-1235U Processor, 16GB, 512GB, 14.0\" (35.56cm) FHD Display, Windows 11 + MSO\\'21, Spill-Resistant Keyboard, 15 Month Mcafee, Black, Thin & Light- 1.48kg', 'Dell 14 Laptop, 13th Gen Intel Core i5-1335U Processor/ 8GB/ 512GB SSD/ 14.0\" (35.56cm) FHD/Windows 11 + MSO\\'21/15 Month McAfee/Spill-Resistant Keyboard/Carbon Black/Thin & Light- 1.46kg', 'Dell 14 Laptop, AMD Ryzen R5-5500U/ 8GB DDR4, 2400 MHz/ 512GB/ 14.0\" (35.56cm) FHD Display with Comfort View/Windows 11 + MSO\\'21/15 Month McAfee/Spill-Resistant Keyboard/Carbon Black/ 1.48kg', 'Dell Inspiron 3520 Laptop, Intel Core i5-1235U Processor, 16GB,512GB,15.6\" (39.62cm) FHD Display, Backlit Keyboard, Win 11 + MSO\\'21,15 Month McAfee, Silver, Thin & Light-1.65kg', 'Dell 14 Laptop, 12th Gen Intel Core i3-1215U Processor/8GB/512GB SSD/Intel UHD Graphics/14.0\"(35.56cm) FHD/Windows 11 + MSO\\'21/15 Month McAfee/Spill-Resistant Keyboard/Grey/Thin & Light 1.48kg', 'Dell 14 Laptop, 12th Gen Intel Core i5-1235U Processor, 16GB, 512GB, 14.0\" (35.56cm) FHD Display, Windows 11 + MSO\\'21, Spill-Resistant Keyboard, 15 Month Mcafee, Black, Thin & Light- 1.48kg', 'Dell Inspiron 3535 Laptop, AMD 7 Series Ryzen 5-7520U Processor/8GB/512GB/15.6\" (39.62cm) FHD WVA AG 120Hz 250 nits Display/Win 11 + MSO\\'21/15 Month McAfee/Platinum Silver/1.63kg', 'Dell 15 Laptop, Intel Core i5-1135G7 Processor/ 8GB/ 1TB+256GB SSD/15.6\"(39.62cm) FHD Display/Mobile Connect/Windows 11 + MSO\\'21/15 Month McAfee/Spill-Resistant Keyboard/Black/Thin & Light 1.69kg', '(Renewed) DELL Latitude 5490 Core i5 8th Gen Laptop, 16 GB RAM, 512GB SSD, Intel HD Graphics, 14 inch (36.83 cms) HD Screen, Windows 11 (Upgraded), MS Office, Black, Slim', 'Dell Inspiron 3530 Laptop, 13th Gen Intel Core i5-1335U Processor/16GB/1TB SSD/15.6\" (39.62cm) FHD Display/Backlit Keyboard/Platinum Silver/Win 11 + MSO\\'21/15 Month McAfee/Thin & Light- 1.66kg', 'Dell Inspiron 7430 2in1 Touch Laptop, 13th Gen Intel Core i3-1315U/8GB/1TB SSD/14.0\" (35.56cm) FHD+,16:10 Aspect Ratio/Backlit KB+FPR/Win 11+MSO\\'21/15 Months McAfee/Platinum Silver/Thin & Light-1.58kg', 'Dell 15 Laptop, Intel Core i3-1115G4 Processor/8GB DDR4/512GB SSD/Intel UHD Graphics/15.6\" (39.6cm) FHD 120Hz Refresh, 250 nits/Mobile Connect/Win 11+MSO\\'21/15 Month McAfee/Black/Thin & Light-1.66kg', 'Dell 14 Laptop, Intel Core i5-1135G7 Processor/8GB/512GB/Intel UHD Graphic/14.0\" (35.6cm) FHD with Comfort View/Spill-Resistant Keyboard/Thin & Light 1.48kg/ Win 11+ MSO\\'21/15 Month McAfee/Titan Grey', 'Dell Inspiron 5430 Laptop, 13th Gen Intel Core i7-1360P Processor/16GB/1TB SSD/14.0\" (35.56cm) FHD+ WVA 250 nits/Backlit KB + FPR/Win 11 + MSO\\'21/15 Month McAfee/Platinum Silver/Thin & Light- 1.59kg', 'Dell Inspiron 7430 2in1 Touch Laptop, 13th Gen Intel Core i3-1315U/8GB/1TB SSD/14.0\" (35.56cm) FHD+,16:10 Aspect Ratio/Backlit KB+FPR/Win 11+MSO\\'21/15 Months McAfee/Platinum Silver/Thin & Light-1.58kg', 'Dell 15 Laptop, Intel Core i5-1135G7 Processor/16GB DDR4/512GB SSD/Intel UHD Graphic/15.6\" (39.562cm) FHD Display/Win 11+MSO\\'21/15 Month McAfee/Spill-Resistant Keyboard/Carbon/Thin & Light 1.69kg', 'Dell XPS 9315 Laptop, Intel i5-1230U, 16GB LPDDR5, 512Gb SSD, 13.4\" (35.5 Cms) FHD+ AG Infinity Edge 500 nits, Backlit KB & FPR, Win 11 + MSO\\'21, Sky Color (ICC-C786507WIN8, 1.17Kgs)', 'Dell 14, Intel 12th Gen i5-1235U Laptop/8GB/512GB SSD/14.0\" (35.56cm) FHD TÃœV Rheinland Certified Comfortview to Reduce Harmful Blue Light Emission/Windows 11 + MSO\\'21/Black/15 Month McAfee,1.48kg', 'Dell G15 5520 Gaming Laptop, Intel i5-12500H/16GB DDR5/1TB SSD/15.6\" (39.62cm) FHD WVA AG 120Hz 250 nits/NVIDIA RTX 3050, 4 GB GDDR6/Win 11 + MSO\\'21/15 Months McAfee/Backlit KB/Dark Shadow Grey/2.81kg', 'Dell New 14\" Latitude 3420- i3 11th Gen || 8 GB || 512 GB SSD || 14\" Full HD 1920 x 1080 Pixels || Ubuntu-Dos || 1 Year Onsite with ADP Warranty', '(Renewed) Dell Latitude Laptop E5470 Intel Core i5 6th Gen. - 6200u Processor, 8 GB Ram & 256 GB SSD, 14.1 Inches HD Screen Notebook Computer', 'Dell Inspiron 3530 Laptop, Intel Core i7-1355U Processor, 16GB, 512GB, 15.6\" (39.62cm) FHD WVA AG 120Hz, Backlit KB + FPR, Win 11 + MSO\\'21, 15 Month McAfee, Silver, 1.62kg', '(Renewed) Dell Intel 5th Gen Core i5 5300U 14-Inch (35.56 cms) Laptop (8 GB/256 GB SSD/Windows 10/Intel HD Graphics/Black/), Latitude E5450', 'Dell 14 Laptop, 13th Gen Intel Core i5-1335U Processor/ 8GB/ 512GB SSD/ 14.0\" (35.56cm) FHD/Windows 11 + MSO\\'21/15 Month McAfee/Spill-Resistant Keyboard/Carbon Black/Thin & Light- 1.46kg', 'Dell Inspiron 5330 Laptop, Intel Evo Platform Powered by Intel Core i7-1360P Processor/16GB LP DDR5/1TB SSD/13.3\" (33.78cm) QHD+ 300 nits/Win 11 + MSO\\'21/15 Month McAfee/Platinum Silver/1.24kg', 'Dell G15-5520 Gaming Laptop, Intel Core i9-12900H Processor, 16GB DDR5/1TB SSD/NVIDIA RTX 3060 (6GB GDDR6)/15.6\" (39.62cm) FHD 165Hz 300 nits/Win 11 + MSO\\'21/15 Month McAfee/Dark Shadow Grey/2.81kg', 'Dell Inspiron 3520 Laptop,12th Gen Intel Core i3-1215, Windows 11 + MSO\\'21, McAfee 15 Months, 8GB, 512GB SSD, 15.6\" (39.62Cms) 3 Sided Narrow Border Design with 120Hz FHD Display, Black, 1.65Kgs', 'Dell Inspiron 3520 Laptop, Intel Core i3-1215U Processor, 8GB & 256GB SSD, 15.6\" (39.62Cm) FHD WVA AG 120Hz 250 nits, Win 11 + MSO\\'21, Carbon Black, 15 Months McAfee, Thin & Light- 1.65KG', 'Dell Inspiron 5430 13th Gen Laptop, Intel Core i5-1335U Processor/16GB/ 512GB SSD/14.0\" (35.56cm) FHD+/Backlit KB + FPR/Win 11 + MSO\\'2/McAfee 15 Months/Silver/Thunderbolt 4.0 Port/Thin & Light-1.59kg', 'Dell G15 5520 Gaming Laptop, Intel i5-12500H, 16GB DDR5, 512GB SSD, NVIDIA RTX 3050 (4GB GDDR6), 15.6\"(39.62cm) FHD 120Hz 250 nits Display, Backlit KB Orange, Win 11 + MSO\\'21, Dark Shadow Grey, 2.81kg']\n"
     ]
    }
   ],
   "source": [
    "print(laptop_name)"
   ]
  },
  {
   "cell_type": "code",
   "execution_count": 109,
   "id": "319fad79",
   "metadata": {},
   "outputs": [],
   "source": [
    "laptop_prices=driver.find_elements(By.XPATH,\".//span[@class='a-size-base a-color-base']\")"
   ]
  },
  {
   "cell_type": "code",
   "execution_count": 110,
   "id": "14439964",
   "metadata": {},
   "outputs": [
    {
     "name": "stdout",
     "output_type": "stream",
     "text": [
      "112\n"
     ]
    }
   ],
   "source": [
    "print(len(laptop_prices))"
   ]
  },
  {
   "cell_type": "code",
   "execution_count": 111,
   "id": "2c7bc1b7",
   "metadata": {},
   "outputs": [],
   "source": [
    "review=driver.find_elements(By.XPATH,\".//span[@class='a-size-base a-color-base puis-bold-weight-text']\")"
   ]
  },
  {
   "cell_type": "code",
   "execution_count": 112,
   "id": "38ae4b0f",
   "metadata": {},
   "outputs": [
    {
     "name": "stdout",
     "output_type": "stream",
     "text": [
      "36\n"
     ]
    }
   ],
   "source": [
    "print(len(review))"
   ]
  },
  {
   "cell_type": "code",
   "execution_count": 124,
   "id": "2f3a51bf",
   "metadata": {},
   "outputs": [
    {
     "name": "stdout",
     "output_type": "stream",
     "text": [
      "['34,990', '33,990', '35,990', '49,990', '56,990', '35,990', '55,280', '35,990', '49,990', '38,990', '44,990', '23,649', '67,490', '57,990', '33,990', '44,990', '83,490', '57,990', '47,990', '1,18,990', '46,990', '75,990', '30,650', '19,999', '71,490', '19,890', '56,990', '98,990', '1,24,990', '36,970', '33,990', '68,990', '72,990']\n",
      "33\n"
     ]
    }
   ],
   "source": [
    "price=[]\n",
    "lap_pri=[]\n",
    "price=driver.find_elements(By.XPATH,\".//span[@class='a-price-whole']\")\n",
    "lap_pri=[i.text for i in price]\n",
    "print(lap_pri)\n",
    "print(len(lap_pri))"
   ]
  },
  {
   "cell_type": "code",
   "execution_count": 132,
   "id": "6fa8a7e2",
   "metadata": {},
   "outputs": [
    {
     "name": "stdout",
     "output_type": "stream",
     "text": [
      "['72', '34', '4', '2', '239', '72', '4', '607', '506', '13', '179', '631', '2', '82', '179', '607', '2', '138', '517', '1', '1,534', '1', '283', '34', '6', '31', '186', '195', '82', '517']\n",
      "30\n"
     ]
    }
   ],
   "source": [
    "revw=[]\n",
    "rev=driver.find_elements(By.XPATH,\".//span[@class='a-size-base s-underline-text']\")\n",
    "revw=[i.text for i in rev]\n",
    "print(revw)\n",
    "print(len(revw))"
   ]
  },
  {
   "cell_type": "code",
   "execution_count": 126,
   "id": "c3b99955",
   "metadata": {},
   "outputs": [
    {
     "data": {
      "text/plain": [
       "'35,990'"
      ]
     },
     "execution_count": 126,
     "metadata": {},
     "output_type": "execute_result"
    }
   ],
   "source": [
    "lap_pri.pop(1)"
   ]
  },
  {
   "cell_type": "code",
   "execution_count": 127,
   "id": "edda5050",
   "metadata": {},
   "outputs": [
    {
     "name": "stdout",
     "output_type": "stream",
     "text": [
      "['34,990', '49,990', '56,990', '35,990', '55,280', '35,990', '49,990', '38,990', '44,990', '23,649', '67,490', '57,990', '33,990', '44,990', '83,490', '57,990', '47,990', '1,18,990', '46,990', '75,990', '30,650', '19,999', '71,490', '19,890', '56,990', '98,990', '1,24,990', '36,970', '68,990', '72,990']\n"
     ]
    }
   ],
   "source": [
    "lap_pri.pop(-3)\n",
    "print(lap_pri)"
   ]
  },
  {
   "cell_type": "code",
   "execution_count": 128,
   "id": "c3f6c276",
   "metadata": {},
   "outputs": [
    {
     "name": "stdout",
     "output_type": "stream",
     "text": [
      "30\n"
     ]
    }
   ],
   "source": [
    "print(len(lap_pri))"
   ]
  },
  {
   "cell_type": "code",
   "execution_count": 133,
   "id": "dcad566e",
   "metadata": {},
   "outputs": [
    {
     "name": "stdout",
     "output_type": "stream",
     "text": [
      "Empty DataFrame\n",
      "Columns: [names, price, review]\n",
      "Index: []\n"
     ]
    }
   ],
   "source": [
    "import pandas as pd\n",
    "df=pd.DataFrame(columns=['names','price','review'])\n",
    "print(df)"
   ]
  },
  {
   "cell_type": "code",
   "execution_count": 134,
   "id": "4a020d8c",
   "metadata": {},
   "outputs": [
    {
     "name": "stdout",
     "output_type": "stream",
     "text": [
      "                                                names     price review\n",
      "0   Dell 14 Laptop, 12th Gen Intel Core i5-1235U P...    34,990     72\n",
      "1   Dell 14 Laptop, 13th Gen Intel Core i5-1335U P...    49,990     34\n",
      "2   Dell 14 Laptop, AMD Ryzen R5-5500U/ 8GB DDR4, ...    56,990      4\n",
      "3   Dell Inspiron 3520 Laptop, Intel Core i5-1235U...    35,990      2\n",
      "4   Dell 14 Laptop, 12th Gen Intel Core i3-1215U P...    55,280    239\n",
      "5   Dell 14 Laptop, 12th Gen Intel Core i5-1235U P...    35,990     72\n",
      "6   Dell Inspiron 3535 Laptop, AMD 7 Series Ryzen ...    49,990      4\n",
      "7   Dell 15 Laptop, Intel Core i5-1135G7 Processor...    38,990    607\n",
      "8   (Renewed) DELL Latitude 5490 Core i5 8th Gen L...    44,990    506\n",
      "9   Dell Inspiron 3530 Laptop, 13th Gen Intel Core...    23,649     13\n",
      "10  Dell Inspiron 7430 2in1 Touch Laptop, 13th Gen...    67,490    179\n",
      "11  Dell 15 Laptop, Intel Core i3-1115G4 Processor...    57,990    631\n",
      "12  Dell 14 Laptop, Intel Core i5-1135G7 Processor...    33,990      2\n",
      "13  Dell Inspiron 5430 Laptop, 13th Gen Intel Core...    44,990     82\n",
      "14  Dell Inspiron 7430 2in1 Touch Laptop, 13th Gen...    83,490    179\n",
      "15  Dell 15 Laptop, Intel Core i5-1135G7 Processor...    57,990    607\n",
      "16  Dell XPS 9315 Laptop, Intel i5-1230U, 16GB LPD...    47,990      2\n",
      "17  Dell 14, Intel 12th Gen i5-1235U Laptop/8GB/51...  1,18,990    138\n",
      "18  Dell G15 5520 Gaming Laptop, Intel i5-12500H/1...    46,990    517\n",
      "19  Dell New 14\" Latitude 3420- i3 11th Gen || 8 G...    75,990      1\n",
      "20  (Renewed) Dell Latitude Laptop E5470 Intel Cor...    30,650  1,534\n",
      "21  Dell Inspiron 3530 Laptop, Intel Core i7-1355U...    19,999      1\n",
      "22  (Renewed) Dell Intel 5th Gen Core i5 5300U 14-...    71,490    283\n",
      "23  Dell 14 Laptop, 13th Gen Intel Core i5-1335U P...    19,890     34\n",
      "24  Dell Inspiron 5330 Laptop, Intel Evo Platform ...    56,990      6\n",
      "25  Dell G15-5520 Gaming Laptop, Intel Core i9-129...    98,990     31\n",
      "26  Dell Inspiron 3520 Laptop,12th Gen Intel Core ...  1,24,990    186\n",
      "27  Dell Inspiron 3520 Laptop, Intel Core i3-1215U...    36,970    195\n",
      "28  Dell Inspiron 5430 13th Gen Laptop, Intel Core...    68,990     82\n",
      "29  Dell G15 5520 Gaming Laptop, Intel i5-12500H, ...    72,990    517\n"
     ]
    }
   ],
   "source": [
    "df[\"names\"]=laptop_name\n",
    "df[\"price\"]=lap_pri\n",
    "df[\"review\"]=revw\n",
    "print(df)"
   ]
  },
  {
   "cell_type": "code",
   "execution_count": 135,
   "id": "df007deb",
   "metadata": {},
   "outputs": [],
   "source": [
    "df.to_csv(\"dell_data.csv\")"
   ]
  },
  {
   "cell_type": "code",
   "execution_count": 136,
   "id": "137084ec",
   "metadata": {},
   "outputs": [
    {
     "name": "stdout",
     "output_type": "stream",
     "text": [
      "                                                names     price review\n",
      "0   Dell 14 Laptop, 12th Gen Intel Core i5-1235U P...    34,990     72\n",
      "1   Dell 14 Laptop, 13th Gen Intel Core i5-1335U P...    49,990     34\n",
      "2   Dell 14 Laptop, AMD Ryzen R5-5500U/ 8GB DDR4, ...    56,990      4\n",
      "3   Dell Inspiron 3520 Laptop, Intel Core i5-1235U...    35,990      2\n",
      "4   Dell 14 Laptop, 12th Gen Intel Core i3-1215U P...    55,280    239\n",
      "5   Dell 14 Laptop, 12th Gen Intel Core i5-1235U P...    35,990     72\n",
      "6   Dell Inspiron 3535 Laptop, AMD 7 Series Ryzen ...    49,990      4\n",
      "7   Dell 15 Laptop, Intel Core i5-1135G7 Processor...    38,990    607\n",
      "8   (Renewed) DELL Latitude 5490 Core i5 8th Gen L...    44,990    506\n",
      "9   Dell Inspiron 3530 Laptop, 13th Gen Intel Core...    23,649     13\n",
      "10  Dell Inspiron 7430 2in1 Touch Laptop, 13th Gen...    67,490    179\n",
      "11  Dell 15 Laptop, Intel Core i3-1115G4 Processor...    57,990    631\n",
      "12  Dell 14 Laptop, Intel Core i5-1135G7 Processor...    33,990      2\n",
      "13  Dell Inspiron 5430 Laptop, 13th Gen Intel Core...    44,990     82\n",
      "14  Dell Inspiron 7430 2in1 Touch Laptop, 13th Gen...    83,490    179\n",
      "15  Dell 15 Laptop, Intel Core i5-1135G7 Processor...    57,990    607\n",
      "16  Dell XPS 9315 Laptop, Intel i5-1230U, 16GB LPD...    47,990      2\n",
      "17  Dell 14, Intel 12th Gen i5-1235U Laptop/8GB/51...  1,18,990    138\n",
      "18  Dell G15 5520 Gaming Laptop, Intel i5-12500H/1...    46,990    517\n",
      "19  Dell New 14\" Latitude 3420- i3 11th Gen || 8 G...    75,990      1\n",
      "20  (Renewed) Dell Latitude Laptop E5470 Intel Cor...    30,650  1,534\n",
      "21  Dell Inspiron 3530 Laptop, Intel Core i7-1355U...    19,999      1\n",
      "22  (Renewed) Dell Intel 5th Gen Core i5 5300U 14-...    71,490    283\n",
      "23  Dell 14 Laptop, 13th Gen Intel Core i5-1335U P...    19,890     34\n",
      "24  Dell Inspiron 5330 Laptop, Intel Evo Platform ...    56,990      6\n",
      "25  Dell G15-5520 Gaming Laptop, Intel Core i9-129...    98,990     31\n",
      "26  Dell Inspiron 3520 Laptop,12th Gen Intel Core ...  1,24,990    186\n",
      "27  Dell Inspiron 3520 Laptop, Intel Core i3-1215U...    36,970    195\n",
      "28  Dell Inspiron 5430 13th Gen Laptop, Intel Core...    68,990     82\n",
      "29  Dell G15 5520 Gaming Laptop, Intel i5-12500H, ...    72,990    517\n"
     ]
    }
   ],
   "source": [
    "print(df)"
   ]
  },
  {
   "cell_type": "code",
   "execution_count": 138,
   "id": "86ea0fd0",
   "metadata": {},
   "outputs": [],
   "source": [
    "df.to_csv(\"Dell_data.excel\")"
   ]
  }
 ],
 "metadata": {
  "kernelspec": {
   "display_name": "Python 3 (ipykernel)",
   "language": "python",
   "name": "python3"
  },
  "language_info": {
   "codemirror_mode": {
    "name": "ipython",
    "version": 3
   },
   "file_extension": ".py",
   "mimetype": "text/x-python",
   "name": "python",
   "nbconvert_exporter": "python",
   "pygments_lexer": "ipython3",
   "version": "3.11.5"
  }
 },
 "nbformat": 4,
 "nbformat_minor": 5
}
