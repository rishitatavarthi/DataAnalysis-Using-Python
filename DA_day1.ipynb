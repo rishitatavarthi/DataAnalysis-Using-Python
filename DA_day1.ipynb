{
  "nbformat": 4,
  "nbformat_minor": 0,
  "metadata": {
    "colab": {
      "provenance": []
    },
    "kernelspec": {
      "name": "python3",
      "display_name": "Python 3"
    },
    "language_info": {
      "name": "python"
    }
  },
  "cells": [
    {
      "cell_type": "code",
      "execution_count": null,
      "metadata": {
        "colab": {
          "base_uri": "https://localhost:8080/"
        },
        "id": "SBpVmkFjqx2o",
        "outputId": "5afd1ce4-7e66-4582-b20d-a0b495a81c0e"
      },
      "outputs": [
        {
          "output_type": "stream",
          "name": "stdout",
          "text": [
            "I am  18  years old\n"
          ]
        }
      ],
      "source": [
        "a=18\n",
        "print(\"I am \",a,\" years old\")"
      ]
    },
    {
      "cell_type": "code",
      "source": [],
      "metadata": {
        "id": "4PfneUISrjfe"
      },
      "execution_count": null,
      "outputs": []
    },
    {
      "cell_type": "markdown",
      "source": [
        "Operators\n"
      ],
      "metadata": {
        "id": "M4fgYItOruku"
      }
    },
    {
      "cell_type": "code",
      "source": [
        "##arithmetic\n",
        "a=5\n",
        "b=10\n",
        "print(a+b)"
      ],
      "metadata": {
        "colab": {
          "base_uri": "https://localhost:8080/"
        },
        "id": "xa07TZhSrzfr",
        "outputId": "6cbe4c7a-e9fd-4a07-d5c5-86a79daa3b6a"
      },
      "execution_count": null,
      "outputs": [
        {
          "output_type": "stream",
          "name": "stdout",
          "text": [
            "15\n"
          ]
        }
      ]
    },
    {
      "cell_type": "code",
      "source": [
        "#power\n",
        "print(5**2)"
      ],
      "metadata": {
        "colab": {
          "base_uri": "https://localhost:8080/"
        },
        "id": "47DGsbA4sMgH",
        "outputId": "0ffe943f-1289-4b75-9da9-c74146e36b05"
      },
      "execution_count": null,
      "outputs": [
        {
          "output_type": "stream",
          "name": "stdout",
          "text": [
            "25\n"
          ]
        }
      ]
    },
    {
      "cell_type": "code",
      "source": [
        "#floor division\n",
        "print(25//2)\n"
      ],
      "metadata": {
        "colab": {
          "base_uri": "https://localhost:8080/"
        },
        "id": "Cv4PE0A0sgNn",
        "outputId": "05f3de3f-2026-47a9-fe74-93e9f2372bd7"
      },
      "execution_count": null,
      "outputs": [
        {
          "output_type": "stream",
          "name": "stdout",
          "text": [
            "12\n"
          ]
        }
      ]
    },
    {
      "cell_type": "code",
      "source": [
        "#division\n",
        "print(25/2)"
      ],
      "metadata": {
        "colab": {
          "base_uri": "https://localhost:8080/"
        },
        "id": "NA3uQEKOsugk",
        "outputId": "66507ef9-cb38-4555-861e-c033587b6fec"
      },
      "execution_count": null,
      "outputs": [
        {
          "output_type": "stream",
          "name": "stdout",
          "text": [
            "12.5\n"
          ]
        }
      ]
    },
    {
      "cell_type": "markdown",
      "source": [],
      "metadata": {
        "id": "8f3nf5fmtkpM"
      }
    },
    {
      "cell_type": "markdown",
      "source": [
        "Relational\n"
      ],
      "metadata": {
        "id": "8mymY5djs3FX"
      }
    },
    {
      "cell_type": "markdown",
      "source": [],
      "metadata": {
        "id": "c7ELbQNqsHab"
      }
    },
    {
      "cell_type": "code",
      "source": [
        "a=6\n",
        "b=6\n",
        "print(a>b)\n",
        "print(a<b)\n",
        "print(a>=b)\n",
        "print(a<=b)\n",
        "print(a==b)\n",
        "print(a!=b)\n"
      ],
      "metadata": {
        "colab": {
          "base_uri": "https://localhost:8080/"
        },
        "id": "ywBmJPt8s7qM",
        "outputId": "5c9adb49-e3b1-4481-da28-55b63f39e866"
      },
      "execution_count": null,
      "outputs": [
        {
          "output_type": "stream",
          "name": "stdout",
          "text": [
            "False\n",
            "False\n",
            "True\n",
            "True\n",
            "True\n",
            "False\n"
          ]
        }
      ]
    },
    {
      "cell_type": "markdown",
      "source": [],
      "metadata": {
        "id": "jnxntVA0ucqL"
      }
    },
    {
      "cell_type": "markdown",
      "source": [],
      "metadata": {
        "id": "CURNcnOeufAr"
      }
    },
    {
      "cell_type": "markdown",
      "source": [],
      "metadata": {
        "id": "yOlxubPFuhgZ"
      }
    },
    {
      "cell_type": "markdown",
      "source": [
        "Logical\n"
      ],
      "metadata": {
        "id": "kY8vjtDjtqbs"
      }
    },
    {
      "cell_type": "code",
      "source": [
        "a=9\n",
        "b=25\n",
        "print((a>b)and (a<b))   #false and true\n"
      ],
      "metadata": {
        "colab": {
          "base_uri": "https://localhost:8080/"
        },
        "id": "2G8nJ-Ihtu1T",
        "outputId": "5e015c0e-49ad-432c-c31b-6cc427be3cfd"
      },
      "execution_count": null,
      "outputs": [
        {
          "output_type": "stream",
          "name": "stdout",
          "text": [
            "False\n"
          ]
        }
      ]
    },
    {
      "cell_type": "code",
      "source": [
        "print((a>b) or (a<b))#false or true"
      ],
      "metadata": {
        "colab": {
          "base_uri": "https://localhost:8080/"
        },
        "id": "L5Ae7qUhuPbH",
        "outputId": "890e467e-cb00-4e1d-cb9e-18c418c24035"
      },
      "execution_count": null,
      "outputs": [
        {
          "output_type": "stream",
          "name": "stdout",
          "text": [
            "True\n"
          ]
        }
      ]
    },
    {
      "cell_type": "markdown",
      "source": [
        "Membership\n"
      ],
      "metadata": {
        "id": "KFJbpbHVuj5L"
      }
    },
    {
      "cell_type": "code",
      "source": [
        "a=\"Pirate\"\n",
        "print(\"a\" in a)\n",
        "print(\"a\" not in a)\n",
        "print(\"v\"  in a)\n"
      ],
      "metadata": {
        "colab": {
          "base_uri": "https://localhost:8080/"
        },
        "id": "aAN24vKBunSJ",
        "outputId": "c890034b-42a8-4d2f-f1e8-75b4f2d96e6e"
      },
      "execution_count": null,
      "outputs": [
        {
          "output_type": "stream",
          "name": "stdout",
          "text": [
            "True\n",
            "False\n",
            "False\n"
          ]
        }
      ]
    },
    {
      "cell_type": "markdown",
      "source": [
        "Conditional if\n"
      ],
      "metadata": {
        "id": "oF5ZuQXzvN-Y"
      }
    },
    {
      "cell_type": "markdown",
      "source": [
        "#write a program to get a number from the user whether it is positive or not\n"
      ],
      "metadata": {
        "id": "HbB497j0vQsr"
      }
    },
    {
      "cell_type": "code",
      "source": [
        "#write a program to get a number from the user whether it is positive or not\n",
        "a=int(input(\"Enter a number \"))\n",
        "if(a>0):\n",
        "  print(a,\"is positive\")\n",
        "else:\n",
        "  print(a,\"is negative\")\n"
      ],
      "metadata": {
        "colab": {
          "base_uri": "https://localhost:8080/"
        },
        "id": "3p9ROuxtwFiO",
        "outputId": "f5d123fb-4922-403b-e241-6e6e427d989a"
      },
      "execution_count": null,
      "outputs": [
        {
          "output_type": "stream",
          "name": "stdout",
          "text": [
            "Enter a number -7\n",
            "-7 is negative\n"
          ]
        }
      ]
    },
    {
      "cell_type": "code",
      "source": [
        "#using elif\n",
        "a=int(input(\"Enter a number \"))\n",
        "if(a>0):\n",
        "  print(a,\"is positive\")\n",
        "elif(a==0):\n",
        "  print(a,\"is neutral\")\n",
        "else:\n",
        "  print(a,\"is negative\")\n"
      ],
      "metadata": {
        "colab": {
          "base_uri": "https://localhost:8080/"
        },
        "id": "YUtGw1TYziUB",
        "outputId": "9b45441a-720f-4f08-a69a-a34f099cdf9f"
      },
      "execution_count": null,
      "outputs": [
        {
          "output_type": "stream",
          "name": "stdout",
          "text": [
            "Enter a number -8\n",
            "-8 is negative\n"
          ]
        }
      ]
    },
    {
      "cell_type": "markdown",
      "source": [
        "For loop"
      ],
      "metadata": {
        "id": "OaP4N0fZ0nxm"
      }
    },
    {
      "cell_type": "code",
      "source": [
        "from re import I\n",
        "#Print 6 table\n",
        "a=int(input(\"Enter a value: \"))\n",
        "for i in range(1,11,1):\n",
        "  n=a*i\n",
        "  print(n)\n",
        "\n"
      ],
      "metadata": {
        "colab": {
          "base_uri": "https://localhost:8080/"
        },
        "id": "xBeA7gEf0rTl",
        "outputId": "06c2ead9-9a5d-4ceb-8425-282baf4089eb"
      },
      "execution_count": null,
      "outputs": [
        {
          "output_type": "stream",
          "name": "stdout",
          "text": [
            "Enter a value: 6\n",
            "6\n",
            "12\n",
            "18\n",
            "24\n",
            "30\n",
            "36\n",
            "42\n",
            "48\n",
            "54\n",
            "60\n"
          ]
        }
      ]
    },
    {
      "cell_type": "markdown",
      "source": [
        "Type Casting"
      ],
      "metadata": {
        "id": "81sqUSnr3F7E"
      }
    },
    {
      "cell_type": "code",
      "source": [
        "a=25.3  #float\n",
        "b=6   #int\n",
        "print(int(a*b))"
      ],
      "metadata": {
        "colab": {
          "base_uri": "https://localhost:8080/"
        },
        "id": "C2zNj67N3IGG",
        "outputId": "0c7d8d17-8fbc-4352-b0a8-efe681eea49f"
      },
      "execution_count": null,
      "outputs": [
        {
          "output_type": "stream",
          "name": "stdout",
          "text": [
            "151\n"
          ]
        }
      ]
    },
    {
      "cell_type": "code",
      "source": [
        "a=\"45\"\n",
        "a=int(a)\n",
        "print((type(a)))"
      ],
      "metadata": {
        "colab": {
          "base_uri": "https://localhost:8080/"
        },
        "id": "gv1Vovu14ImN",
        "outputId": "0b711e7a-c821-4e73-dba4-9324d1e61f71"
      },
      "execution_count": null,
      "outputs": [
        {
          "output_type": "stream",
          "name": "stdout",
          "text": [
            "<class 'int'>\n"
          ]
        }
      ]
    },
    {
      "cell_type": "markdown",
      "source": [
        "Data Slicing"
      ],
      "metadata": {
        "id": "r3INCMzX4v-N"
      }
    },
    {
      "cell_type": "code",
      "source": [
        "a=\"Python is easy\"\n",
        "print(a[0:6])#start:stop:step"
      ],
      "metadata": {
        "colab": {
          "base_uri": "https://localhost:8080/"
        },
        "id": "SJ7DxWbx4ySb",
        "outputId": "95625038-aa87-4b93-c3dc-005e82b04faa"
      },
      "execution_count": null,
      "outputs": [
        {
          "output_type": "stream",
          "name": "stdout",
          "text": [
            "Python\n"
          ]
        }
      ]
    },
    {
      "cell_type": "markdown",
      "source": [],
      "metadata": {
        "id": "EzFur3pv4Bw3"
      }
    },
    {
      "cell_type": "code",
      "source": [
        "a=\"Python is easy\"\n",
        "print(a[::-1])"
      ],
      "metadata": {
        "colab": {
          "base_uri": "https://localhost:8080/"
        },
        "id": "bERURKgF4G0m",
        "outputId": "5792b5ed-a3f6-434d-8d76-c729cb61adc4"
      },
      "execution_count": null,
      "outputs": [
        {
          "output_type": "stream",
          "name": "stdout",
          "text": [
            "ysae si nohtyP\n"
          ]
        }
      ]
    },
    {
      "cell_type": "code",
      "source": [
        "a=\"Python is easy\"\n",
        "print(a[::2])"
      ],
      "metadata": {
        "colab": {
          "base_uri": "https://localhost:8080/"
        },
        "id": "rk58Gc-p6WnK",
        "outputId": "85aee4e5-9a1b-4f9c-fdb7-dd52f759d859"
      },
      "execution_count": null,
      "outputs": [
        {
          "output_type": "stream",
          "name": "stdout",
          "text": [
            "Pto ses\n"
          ]
        }
      ]
    },
    {
      "cell_type": "markdown",
      "source": [
        "While loop"
      ],
      "metadata": {
        "id": "5xVGaA8j6rUA"
      }
    },
    {
      "cell_type": "code",
      "source": [
        "#print a table using while loop\n",
        "a=int(input(\"Enter a number\"))\n",
        "i=1\n",
        "while(i<=10):\n",
        "  print(a,\"*\",i,\" = \",a*i)\n",
        "  i=i+1"
      ],
      "metadata": {
        "colab": {
          "base_uri": "https://localhost:8080/"
        },
        "id": "8ihieEbU9dbc",
        "outputId": "de38397d-a6d6-4006-f0fb-be84665feb71"
      },
      "execution_count": null,
      "outputs": [
        {
          "output_type": "stream",
          "name": "stdout",
          "text": [
            "Enter a number5\n",
            "5 * 1  =  5\n",
            "5 * 2  =  10\n",
            "5 * 3  =  15\n",
            "5 * 4  =  20\n",
            "5 * 5  =  25\n",
            "5 * 6  =  30\n",
            "5 * 7  =  35\n",
            "5 * 8  =  40\n",
            "5 * 9  =  45\n",
            "5 * 10  =  50\n"
          ]
        }
      ]
    },
    {
      "cell_type": "markdown",
      "source": [
        "List\n",
        "\n",
        "\n",
        "*   List is a collection of elemnts\n",
        "*   List is Heterogeneous\n",
        "*   List is Mutable\n",
        "  \n",
        "\n",
        "\n",
        "\n",
        "\n",
        "\n",
        "\n",
        "\n"
      ],
      "metadata": {
        "id": "UUVl7bFT-DtV"
      }
    },
    {
      "cell_type": "code",
      "source": [
        "L1=[34,\"Killer\",98.5,45]\n",
        "print(L1)"
      ],
      "metadata": {
        "colab": {
          "base_uri": "https://localhost:8080/"
        },
        "id": "0yf6QuNb-Guc",
        "outputId": "7c61a628-97c1-4f0e-9f25-11c53cf61225"
      },
      "execution_count": null,
      "outputs": [
        {
          "output_type": "stream",
          "name": "stdout",
          "text": [
            "[34, 'Killer', 98.5, 45]\n"
          ]
        }
      ]
    },
    {
      "cell_type": "code",
      "source": [
        "for i in L1:\n",
        "  print(i)"
      ],
      "metadata": {
        "colab": {
          "base_uri": "https://localhost:8080/"
        },
        "id": "EonT-UeJ-7cZ",
        "outputId": "b03bef18-a291-4e00-bb6b-fc829308f9a9"
      },
      "execution_count": null,
      "outputs": [
        {
          "output_type": "stream",
          "name": "stdout",
          "text": [
            "34\n",
            "Killer\n",
            "98.5\n",
            "45\n"
          ]
        }
      ]
    },
    {
      "cell_type": "markdown",
      "source": [],
      "metadata": {
        "id": "DI9o7ObFCNCt"
      }
    },
    {
      "cell_type": "code",
      "source": [
        "M1=[42,\"Dhoni\",99.9,\"CSK\"]\n",
        "print(M1)"
      ],
      "metadata": {
        "colab": {
          "base_uri": "https://localhost:8080/"
        },
        "id": "AFNo8xMcCRSW",
        "outputId": "6eb8b8e3-acca-476d-a8aa-09d76713c734"
      },
      "execution_count": null,
      "outputs": [
        {
          "output_type": "stream",
          "name": "stdout",
          "text": [
            "[42, 'Dhoni', 99.9, 'CSK']\n"
          ]
        }
      ]
    },
    {
      "cell_type": "code",
      "source": [
        "#append\n",
        "M1.append(\"Thala\")\n",
        "print(M1)"
      ],
      "metadata": {
        "colab": {
          "base_uri": "https://localhost:8080/"
        },
        "id": "7UUupPUCCcSk",
        "outputId": "d369a57e-191a-4a6f-e471-bc6c90dfeba2"
      },
      "execution_count": null,
      "outputs": [
        {
          "output_type": "stream",
          "name": "stdout",
          "text": [
            "[42, 'Dhoni', 99.9, 'CSK', 'Thala']\n"
          ]
        }
      ]
    },
    {
      "cell_type": "code",
      "source": [
        "#insert\n",
        "M1.insert(4,7)\n",
        "print(M1)"
      ],
      "metadata": {
        "colab": {
          "base_uri": "https://localhost:8080/"
        },
        "id": "TjI5BVzQCljO",
        "outputId": "1a5dc8b5-6e08-4d1f-ddc9-3613a522dc77"
      },
      "execution_count": null,
      "outputs": [
        {
          "output_type": "stream",
          "name": "stdout",
          "text": [
            "[42, 'Dhoni', 99.9, 'CSK', 7, 'Thala']\n"
          ]
        }
      ]
    },
    {
      "cell_type": "code",
      "source": [
        "V1=[36,\"Virat\",99.8,\"RCB\",18,\"King\"]\n",
        "print(V1)"
      ],
      "metadata": {
        "colab": {
          "base_uri": "https://localhost:8080/"
        },
        "id": "fQL__4JqBa7v",
        "outputId": "919b58d3-f01c-46cc-9acb-65bb114e261d"
      },
      "execution_count": null,
      "outputs": [
        {
          "output_type": "stream",
          "name": "stdout",
          "text": [
            "[36, 'Virat', 99.8, 'RCB', 18, 'King']\n"
          ]
        }
      ]
    },
    {
      "cell_type": "code",
      "source": [
        "#extend\n",
        "M1.extend(V1)\n",
        "print(M1)"
      ],
      "metadata": {
        "colab": {
          "base_uri": "https://localhost:8080/"
        },
        "id": "XJUPuDjmCuMb",
        "outputId": "1171cf05-6885-4c36-dbad-afcde2f0ac2b"
      },
      "execution_count": null,
      "outputs": [
        {
          "output_type": "stream",
          "name": "stdout",
          "text": [
            "[42, 'Dhoni', 99.9, 'CSK', 7, 'Thala', 36, 'Virat', 99.8, 'RCB', 18, 'King']\n"
          ]
        }
      ]
    },
    {
      "cell_type": "code",
      "source": [
        "#pop\n",
        "M1.pop(3)\n",
        "print(M1)\n",
        "V1.pop(3)\n",
        "print(V1)"
      ],
      "metadata": {
        "colab": {
          "base_uri": "https://localhost:8080/"
        },
        "id": "mh6b53VhC_b9",
        "outputId": "c024b9a2-f83f-494d-a913-dba72ab58aa1"
      },
      "execution_count": null,
      "outputs": [
        {
          "output_type": "stream",
          "name": "stdout",
          "text": [
            "[42, 'Dhoni', 99.9, 7, 'Thala', 36, 'Virat', 99.8, 'RCB', 18, 'King']\n",
            "[36, 'Virat', 99.8, 18, 'King']\n"
          ]
        }
      ]
    },
    {
      "cell_type": "code",
      "source": [
        "#remove\n",
        "M1=[42, 'Dhoni', 99.9, 7, 'Thala', 36, 'Virat', 99.8, 'RCB', 18, 'King']\n",
        "M1.remove(99.9)\n",
        "print(M1)"
      ],
      "metadata": {
        "colab": {
          "base_uri": "https://localhost:8080/"
        },
        "id": "-ZIW_OJ0D5on",
        "outputId": "e10e81ca-0477-420a-886c-abd88499c8d6"
      },
      "execution_count": null,
      "outputs": [
        {
          "output_type": "stream",
          "name": "stdout",
          "text": [
            "[42, 'Dhoni', 7, 'Thala', 36, 'Virat', 99.8, 'RCB', 18, 'King']\n"
          ]
        }
      ]
    },
    {
      "cell_type": "code",
      "source": [
        "M1.remove(99.8)\n",
        "print(M1)"
      ],
      "metadata": {
        "colab": {
          "base_uri": "https://localhost:8080/"
        },
        "id": "ANMs9yPEEHRM",
        "outputId": "9249a067-a1a4-4404-f5e1-ae39615d5494"
      },
      "execution_count": null,
      "outputs": [
        {
          "output_type": "stream",
          "name": "stdout",
          "text": [
            "[42, 'Dhoni', 7, 'Thala', 36, 'Virat', 'RCB', 18, 'King']\n"
          ]
        }
      ]
    },
    {
      "cell_type": "code",
      "source": [
        "#min and max\n",
        "n=[10,20,30,40,50,60,0,8,90]\n",
        "print(max(n))\n",
        "print(min(n))"
      ],
      "metadata": {
        "colab": {
          "base_uri": "https://localhost:8080/"
        },
        "id": "QLUu4rGJEhd0",
        "outputId": "740faf2b-b09c-45c6-f23e-169c52f556b8"
      },
      "execution_count": null,
      "outputs": [
        {
          "output_type": "stream",
          "name": "stdout",
          "text": [
            "90\n",
            "0\n"
          ]
        }
      ]
    },
    {
      "cell_type": "markdown",
      "source": [
        "List Comprehension!\n",
        "\n",
        "*   Iterates\n",
        "*   applies same function on every element\n",
        "*   continous\n",
        "*   output:List\n",
        "\n",
        "\n",
        "\n"
      ],
      "metadata": {
        "id": "Xp9lMBJNF599"
      }
    },
    {
      "cell_type": "code",
      "source": [
        "L1=[45,67,89,90]\n",
        "L2=[i**2 for i in L1]  #output iterate\n",
        "print(L2)"
      ],
      "metadata": {
        "colab": {
          "base_uri": "https://localhost:8080/"
        },
        "id": "y2D6N1O8E7fW",
        "outputId": "6a49bc0a-2991-4ace-f687-4dcd60c8e081"
      },
      "execution_count": null,
      "outputs": [
        {
          "output_type": "stream",
          "name": "stdout",
          "text": [
            "[2025, 4489, 7921, 8100]\n"
          ]
        }
      ]
    },
    {
      "cell_type": "code",
      "source": [
        "L1=[45,67,89,90]\n",
        "L2=[i**2 for i in L1 if i>50]  #output iterate condition\n",
        "print(L2)"
      ],
      "metadata": {
        "colab": {
          "base_uri": "https://localhost:8080/"
        },
        "id": "ScjQ6SEMG486",
        "outputId": "d38bee3b-499f-45bc-9831-04aea6925532"
      },
      "execution_count": null,
      "outputs": [
        {
          "output_type": "stream",
          "name": "stdout",
          "text": [
            "[4489, 7921, 8100]\n"
          ]
        }
      ]
    },
    {
      "cell_type": "code",
      "source": [
        "#The salaries of Five employees in a company is taken as a list.The tax is 10% if the salary is less than or equal to 50000,if greaterthan 50k it is 15%\n",
        "#or it is 15%\n",
        "#create a new list with tax amounts\n",
        "#[67000,45000,89000,34000,50000]\n",
        "#list_name=[(body of if) if(condition)else(elsebody)iterate]\n",
        "\n",
        "sal=[67000,45000,89000,34000,50000]\n",
        "tax=[]\n",
        "for i in sal:\n",
        "  if i<=50000:\n",
        "    t=0.1*i\n",
        "    tax.append(t)\n",
        "  else:\n",
        "    t=i*0.15\n",
        "    tax.append(t)\n",
        "print(tax)\n",
        "\n"
      ],
      "metadata": {
        "colab": {
          "base_uri": "https://localhost:8080/"
        },
        "id": "eebdDVk9HN3O",
        "outputId": "2e2af403-1e51-439a-abb4-164186609343"
      },
      "execution_count": null,
      "outputs": [
        {
          "output_type": "stream",
          "name": "stdout",
          "text": [
            "[10050.0, 4500.0, 13350.0, 3400.0, 5000.0]\n"
          ]
        }
      ]
    },
    {
      "cell_type": "markdown",
      "source": [
        "Using List Comprehension"
      ],
      "metadata": {
        "id": "novwnA2OK6xu"
      }
    },
    {
      "cell_type": "code",
      "source": [
        "sal=[67000,45000,89000,34000,50000]\n",
        "#list_name=[(body of if) if(condition)else(elsebody)iterate]\n",
        "tax=[i*0.1 if(i<=50000) else i*0.15 for i in sal]\n",
        "print(tax)"
      ],
      "metadata": {
        "colab": {
          "base_uri": "https://localhost:8080/"
        },
        "id": "poZE-n5WLE2k",
        "outputId": "5f4038fc-181a-4cc3-c6ea-503fb3314c9c"
      },
      "execution_count": null,
      "outputs": [
        {
          "output_type": "stream",
          "name": "stdout",
          "text": [
            "[10050.0, 4500.0, 13350.0, 3400.0, 5000.0]\n"
          ]
        }
      ]
    }
  ]
}